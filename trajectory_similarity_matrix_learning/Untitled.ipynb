{
 "cells": [
  {
   "cell_type": "code",
   "execution_count": 1,
   "metadata": {},
   "outputs": [],
   "source": [
    "# -*- coding: UTF-8 -*-\n",
    "import torch\n",
    "import torch.nn as nn\n",
    "import torch.nn.functional as F\n",
    "# torch.nn.Conv2d(in_channels, out_channels, kernel_size, stride=1, padding=0, dilation=1, groups=1, bias=True)\n",
    "\n",
    "class OCD(nn.Module):\n",
    "    def __init__(self, input_channel = 3, cls_num = 1):\n",
    "        super(OCD, self).__init__()\n",
    "        self.features = nn.Sequential(  nn.Conv2d(3, 64, 3, 1, 1),\n",
    "                                        nn.ReLU(inplace=True),\n",
    "                                        nn.Conv2d(64, 64, 3, 1, 1),\n",
    "                                        nn.ReLU(inplace=True),\n",
    "                                        nn.MaxPool2d(2, 2),\n",
    "                                        nn.Conv2d(64, 128, 3, 1, 1),\n",
    "                                        nn.ReLU(inplace=True),\n",
    "                                        nn.Conv2d(128, 128, 3, 1, 1),\n",
    "                                        nn.ReLU(inplace=True),\n",
    "                                        nn.MaxPool2d(2, 2),\n",
    "                                        nn.Conv2d(128, 256, 3, 1, 1),\n",
    "                                        nn.ReLU(inplace=True),\n",
    "                                        nn.Conv2d(256, 256, 3, 1, 1),\n",
    "                                        nn.ReLU(inplace=True),\n",
    "                                        nn.Conv2d(256, 256, 3, 1, 1),\n",
    "                                        nn.ReLU(inplace=True),\n",
    "                                        nn.MaxPool2d(2, 2),\n",
    "                                        nn.Conv2d(256, 512, 3, 1, 1),\n",
    "                                        nn.ReLU(inplace=True),\n",
    "                                        nn.Conv2d(512, 512, 3, 1, 1),\n",
    "                                        nn.ReLU(inplace=True),\n",
    "                                        nn.Conv2d(512, 512, 3, 1, 1),\n",
    "                                        nn.ReLU(inplace=True),\n",
    "                                        nn.MaxPool2d(2, 2),\n",
    "                                        nn.Conv2d(512, 512, 3, 1, 1),\n",
    "                                        nn.ReLU(inplace=True),\n",
    "                                        nn.Conv2d(512, 512, 3, 1, 1),\n",
    "                                        nn.ReLU(inplace=True),\n",
    "                                        nn.Conv2d(512, 512, 3, 1, 1),\n",
    "                                        nn.ReLU(inplace=True),\n",
    "                                        nn.MaxPool2d(2, 2))\n",
    "        \n",
    "        self.conv14 = nn.Conv2d(512, 4096, 7, stride=1, padding=3)\n",
    "        nn.init.xavier_uniform_(self.conv14.weight)\n",
    "        nn.init.constant_(self.conv14.bias, 0.1)\n",
    "        # self.conv14_bn = nn.BatchNorm2d(4096)\n",
    "\n",
    "        self.conv15 = nn.Conv2d(4096, 512, 1, stride=1, padding=0)\n",
    "        nn.init.xavier_uniform_(self.conv15.weight)\n",
    "        nn.init.constant_(self.conv15.bias, 0.1)\n",
    "        # self.conv15_bn = nn.BatchNorm2d(512)\n",
    "\n",
    "        self.upsampconv1 = nn.ConvTranspose2d(512, 512, 2, stride=2, padding=0)\n",
    "        \n",
    "        self.conv16 = nn.Conv2d(512, 512, 5, stride=1, padding=2)\n",
    "        nn.init.xavier_uniform_(self.conv16.weight)\n",
    "        nn.init.constant_(self.conv16.bias, 0.1)\n",
    "        # self.conv16_bn = nn.BatchNorm2d(512)\n",
    "\n",
    "        self.upsampconv2 = nn.ConvTranspose2d(512, 256, 2, stride=2, padding=0)\n",
    "        self.conv17 = nn.Conv2d(256, 256, 5, stride=1, padding=2)\n",
    "        nn.init.xavier_uniform_(self.conv17.weight)\n",
    "        nn.init.constant_(self.conv17.bias, 0.1)\n",
    "        # self.conv17_bn = nn.BatchNorm2d(256)\n",
    "\n",
    "        self.upsampconv3 = nn.ConvTranspose2d(256, 128, 2, stride=2, padding=0)\n",
    "        self.conv18 = nn.Conv2d(128, 128, 5, stride=1, padding=2)\n",
    "        nn.init.xavier_uniform_(self.conv18.weight)\n",
    "        nn.init.constant_(self.conv18.bias, 0.1)\n",
    "        # self.conv18_bn = nn.BatchNorm2d(128)\n",
    "\n",
    "        self.upsampconv4 = nn.ConvTranspose2d(128, 64, 2, stride=2, padding=0)\n",
    "        self.conv19 = nn.Conv2d(64, 64, 5, stride=1, padding=2)\n",
    "        nn.init.xavier_uniform_(self.conv19.weight)\n",
    "        nn.init.constant_(self.conv19.bias, 0.1)\n",
    "        # self.conv19_bn = nn.BatchNorm2d(64)\n",
    "\n",
    "        self.upsampconv5 = nn.ConvTranspose2d(64, 32, 2, stride=2, padding=0)\n",
    "        self.conv20 = nn.Conv2d(32, 32, 5, stride=1, padding=2)\n",
    "        nn.init.xavier_uniform_(self.conv20.weight)\n",
    "        nn.init.constant_(self.conv20.bias, 0.1)\n",
    "        # self.conv20_bn = nn.BatchNorm2d(32)\n",
    " \n",
    "        self.conv21 = nn.Conv2d(32, cls_num, 5, stride=1, padding=2)\n",
    "        nn.init.xavier_uniform_(self.conv21.weight)\n",
    "        nn.init.constant_(self.conv21.bias, 0.1)\n",
    "\n",
    "    def forward(self, x):\n",
    "        x = self.features(x)\n",
    "\n",
    "        x = F.relu(self.conv14(x))\n",
    "        x = F.dropout(x, 0.5)\n",
    "        x = F.relu(self.conv15(x))\n",
    "        x = F.dropout(x, 0.5)\n",
    "        x = F.relu(self.upsampconv1(x))\n",
    "\n",
    "        x = F.relu(self.conv16(x))\n",
    "        x = F.dropout(x, 0.5)\n",
    "        x = F.relu(self.upsampconv2(x))\n",
    "\n",
    "        x = F.relu(self.conv17(x))\n",
    "        x = F.dropout(x, 0.5)\n",
    "        x = F.relu(self.upsampconv3(x))\n",
    "\n",
    "        x = F.relu(self.conv18(x))\n",
    "        x = F.dropout(x, 0.5)\n",
    "        x = F.relu(self.upsampconv4(x))\n",
    "\n",
    "        x = F.relu(self.conv19(x))\n",
    "        x = F.dropout(x, 0.5)\n",
    "        x = F.relu(self.upsampconv5(x))\n",
    "\n",
    "        x = F.relu(self.conv20(x))\n",
    "        x = F.dropout(x, 0.5)\n",
    "        x = self.conv21(x)\n",
    "        return x"
   ]
  },
  {
   "cell_type": "code",
   "execution_count": null,
   "metadata": {},
   "outputs": [],
   "source": [
    "inputs = torch.rand([64, 3, 128, 128])\n",
    "model = OCD(3, 1)\n",
    "print(model(inputs).shape)"
   ]
  },
  {
   "cell_type": "code",
   "execution_count": 2,
   "metadata": {},
   "outputs": [
    {
     "name": "stdout",
     "output_type": "stream",
     "text": [
      "tensor(0.1662)\n"
     ]
    }
   ],
   "source": [
    "import torch\n",
    "loss_fn = torch.nn.MSELoss()\n",
    "predict_data = torch.rand(64, 32, 32)\n",
    "target_data = torch.rand(64, 32, 32)\n",
    "loss = loss_fn(predict_data, target_data)\n",
    "print(loss)"
   ]
  },
  {
   "cell_type": "code",
   "execution_count": 6,
   "metadata": {},
   "outputs": [
    {
     "ename": "TypeError",
     "evalue": "unsupported operand type(s) for -: 'list' and 'list'",
     "output_type": "error",
     "traceback": [
      "\u001b[1;31m---------------------------------------------------------------------------\u001b[0m",
      "\u001b[1;31mTypeError\u001b[0m                                 Traceback (most recent call last)",
      "\u001b[1;32m<ipython-input-6-a287ec32f90a>\u001b[0m in \u001b[0;36m<module>\u001b[1;34m\u001b[0m\n\u001b[0;32m      3\u001b[0m \u001b[0me1\u001b[0m \u001b[1;33m=\u001b[0m \u001b[0mpickle\u001b[0m\u001b[1;33m.\u001b[0m\u001b[0mload\u001b[0m\u001b[1;33m(\u001b[0m\u001b[0mopen\u001b[0m\u001b[1;33m(\u001b[0m\u001b[1;34m\"example_match1.pkl\"\u001b[0m\u001b[1;33m,\u001b[0m \u001b[1;34m\"rb\"\u001b[0m\u001b[1;33m)\u001b[0m\u001b[1;33m)\u001b[0m\u001b[1;33m\u001b[0m\u001b[1;33m\u001b[0m\u001b[0m\n\u001b[0;32m      4\u001b[0m \u001b[0me2\u001b[0m \u001b[1;33m=\u001b[0m \u001b[0mpickle\u001b[0m\u001b[1;33m.\u001b[0m\u001b[0mload\u001b[0m\u001b[1;33m(\u001b[0m\u001b[0mopen\u001b[0m\u001b[1;33m(\u001b[0m\u001b[1;34m\"example_match2.pkl\"\u001b[0m\u001b[1;33m,\u001b[0m \u001b[1;34m\"rb\"\u001b[0m\u001b[1;33m)\u001b[0m\u001b[1;33m)\u001b[0m\u001b[1;33m\u001b[0m\u001b[1;33m\u001b[0m\u001b[0m\n\u001b[1;32m----> 5\u001b[1;33m \u001b[0mprint\u001b[0m\u001b[1;33m(\u001b[0m\u001b[0me1\u001b[0m \u001b[1;33m-\u001b[0m \u001b[0me2\u001b[0m\u001b[1;33m)\u001b[0m\u001b[1;33m\u001b[0m\u001b[1;33m\u001b[0m\u001b[0m\n\u001b[0m\u001b[0;32m      6\u001b[0m \u001b[0mprint\u001b[0m\u001b[1;33m(\u001b[0m\u001b[0me2\u001b[0m\u001b[1;33m)\u001b[0m\u001b[1;33m\u001b[0m\u001b[1;33m\u001b[0m\u001b[0m\n",
      "\u001b[1;31mTypeError\u001b[0m: unsupported operand type(s) for -: 'list' and 'list'"
     ]
    }
   ],
   "source": [
    "import pickle\n",
    "import numpy as np\n",
    "e1 = pickle.load(open(\"example_match1.pkl\", \"rb\"))\n",
    "e2 = pickle.load(open(\"example_match2.pkl\", \"rb\"))\n",
    "print(e1)\n",
    "print(e2)"
   ]
  },
  {
   "cell_type": "code",
   "execution_count": 17,
   "metadata": {},
   "outputs": [
    {
     "name": "stdout",
     "output_type": "stream",
     "text": [
      "tensor(6.3333)\n",
      "torch.Size([2, 2, 3])\n"
     ]
    }
   ],
   "source": [
    "import torch\n",
    "loss_fun = torch.nn.MSELoss()\n",
    "a = torch.FloatTensor([[[1, 2, 3], [3, 4, 5]],[[1, 2, 3], [3, 4, 5]]])\n",
    "b = torch.FloatTensor([[[3, 4, 2], [5, 7, 9]], [[3, 4, 2], [5, 7, 9]]])\n",
    "loss = loss_fun(a, b)\n",
    "print(loss)\n",
    "print(a.shape)"
   ]
  },
  {
   "cell_type": "code",
   "execution_count": 16,
   "metadata": {},
   "outputs": [
    {
     "data": {
      "text/plain": [
       "6.333333333333333"
      ]
     },
     "execution_count": 16,
     "metadata": {},
     "output_type": "execute_result"
    }
   ],
   "source": [
    "38/6"
   ]
  },
  {
   "cell_type": "code",
   "execution_count": null,
   "metadata": {},
   "outputs": [],
   "source": []
  }
 ],
 "metadata": {
  "kernelspec": {
   "display_name": "Python 3",
   "language": "python",
   "name": "python3"
  },
  "language_info": {
   "codemirror_mode": {
    "name": "ipython",
    "version": 3
   },
   "file_extension": ".py",
   "mimetype": "text/x-python",
   "name": "python",
   "nbconvert_exporter": "python",
   "pygments_lexer": "ipython3",
   "version": "3.7.4"
  }
 },
 "nbformat": 4,
 "nbformat_minor": 4
}
