{
 "cells": [
  {
   "cell_type": "code",
   "execution_count": 10,
   "metadata": {},
   "outputs": [
    {
     "name": "stdout",
     "output_type": "stream",
     "text": [
      "tensor([[[-inf, -inf, -inf,  ..., -inf, -inf, -inf],\n",
      "         [-inf, -inf, 0.,  ..., -inf, -inf, -inf],\n",
      "         [-inf, -inf, -inf,  ..., -inf, -inf, -inf],\n",
      "         ...,\n",
      "         [-inf, -inf, -inf,  ..., -inf, -inf, -inf],\n",
      "         [-inf, -inf, -inf,  ..., -inf, -inf, -inf],\n",
      "         [-inf, -inf, -inf,  ..., -inf, -inf, -inf]],\n",
      "\n",
      "        [[-inf, -inf, -inf,  ..., -inf, -inf, -inf],\n",
      "         [-inf, -inf, 0.,  ..., -inf, -inf, -inf],\n",
      "         [-inf, -inf, -inf,  ..., -inf, -inf, -inf],\n",
      "         ...,\n",
      "         [-inf, -inf, -inf,  ..., -inf, -inf, -inf],\n",
      "         [-inf, -inf, -inf,  ..., -inf, -inf, -inf],\n",
      "         [-inf, -inf, -inf,  ..., -inf, -inf, -inf]],\n",
      "\n",
      "        [[-inf, -inf, -inf,  ..., -inf, -inf, -inf],\n",
      "         [-inf, -inf, 0.,  ..., -inf, -inf, -inf],\n",
      "         [-inf, -inf, -inf,  ..., -inf, -inf, -inf],\n",
      "         ...,\n",
      "         [-inf, -inf, -inf,  ..., -inf, -inf, -inf],\n",
      "         [-inf, -inf, -inf,  ..., -inf, -inf, -inf],\n",
      "         [-inf, -inf, -inf,  ..., -inf, -inf, -inf]],\n",
      "\n",
      "        ...,\n",
      "\n",
      "        [[-inf, -inf, -inf,  ..., -inf, -inf, -inf],\n",
      "         [-inf, -inf, 0.,  ..., -inf, -inf, -inf],\n",
      "         [-inf, -inf, -inf,  ..., -inf, -inf, -inf],\n",
      "         ...,\n",
      "         [-inf, -inf, -inf,  ..., -inf, -inf, -inf],\n",
      "         [-inf, -inf, -inf,  ..., -inf, -inf, -inf],\n",
      "         [-inf, -inf, -inf,  ..., -inf, -inf, -inf]],\n",
      "\n",
      "        [[-inf, -inf, -inf,  ..., -inf, -inf, -inf],\n",
      "         [-inf, -inf, 0.,  ..., -inf, -inf, -inf],\n",
      "         [-inf, -inf, -inf,  ..., -inf, -inf, -inf],\n",
      "         ...,\n",
      "         [-inf, -inf, -inf,  ..., -inf, -inf, -inf],\n",
      "         [-inf, -inf, -inf,  ..., -inf, -inf, -inf],\n",
      "         [-inf, -inf, -inf,  ..., -inf, -inf, -inf]],\n",
      "\n",
      "        [[-inf, -inf, -inf,  ..., -inf, -inf, -inf],\n",
      "         [-inf, -inf, 0.,  ..., -inf, -inf, -inf],\n",
      "         [-inf, -inf, -inf,  ..., -inf, -inf, -inf],\n",
      "         ...,\n",
      "         [-inf, -inf, -inf,  ..., -inf, -inf, -inf],\n",
      "         [-inf, -inf, -inf,  ..., -inf, -inf, -inf],\n",
      "         [-inf, -inf, -inf,  ..., -inf, -inf, -inf]]])\n"
     ]
    }
   ],
   "source": [
    "import torch\n",
    "q_length_max = 50\n",
    "k_length_max = 25\n",
    "q_length_list = [1, 2, 3, 4, 5]\n",
    "k_length_list = [2, 3, 4, -1, -1]\n",
    "memory_mask_init = [[float('-inf') for _ in range(k_length_max)] for _ in range(q_length_max)]\n",
    "for q_index, v_index in zip(q_length_list, k_length_list):\n",
    "    memory_mask_init[q_index][v_index] = float(0.0)\n",
    "memory_mask = [memory_mask_init for _ in range(8)]\n",
    "memory_mask = torch.FloatTensor(memory_mask)\n",
    "print(memory_mask)"
   ]
  },
  {
   "cell_type": "code",
   "execution_count": 3,
   "metadata": {},
   "outputs": [
    {
     "name": "stdout",
     "output_type": "stream",
     "text": [
      "2\n"
     ]
    }
   ],
   "source": [
    "print(22//11)"
   ]
  },
  {
   "cell_type": "code",
   "execution_count": 21,
   "metadata": {},
   "outputs": [],
   "source": [
    "import random\n",
    "import numpy\n",
    "num_heads=8\n",
    "def get_triple_index(length1, length2, k=3):\n",
    "    double_index = [[], []]\n",
    "    \n",
    "    length1_randoms = random.sample(list(range(0, length1 - 1)), k)\n",
    "    length2_randoms = random.sample(list(range(0, length2 - 1)), k)\n",
    "    for length1_random, length2_random in zip(length1_randoms, length2_randoms):\n",
    "        double_index[0].append(length1_random)\n",
    "        double_index[1].append(length2_random)\n",
    "    double_index[0].append(length1_random - 1)\n",
    "    double_index[1].append(length2_random - 1)\n",
    "    return double_index\n",
    "\n",
    "def get_memory_mask(q_length_list, k_length_list, q_length_max, k_length_max):\n",
    "    memory_mask_init = [[float (0.0) for _ in range (k_length_max)] for _ in range (q_length_max)]\n",
    "    for q_index, v_index in zip (q_length_list, k_length_list):\n",
    "        for k_ in range (k_length_max):\n",
    "            if k_ > v_index:\n",
    "                memory_mask_init[q_index][k_] = float('-inf')\n",
    "        # memory_mask_init[q_index][v_index] = float(0.0)\n",
    "    memory_mask = [memory_mask_init for _ in range(num_heads)]\n",
    "    return memory_mask\n",
    "\n",
    "anchor_near_double = get_triple_index(5, 6)\n",
    "anchor_far_double = get_triple_index(5, 7)"
   ]
  },
  {
   "cell_type": "code",
   "execution_count": 22,
   "metadata": {},
   "outputs": [
    {
     "name": "stdout",
     "output_type": "stream",
     "text": [
      "[[[-inf -inf -inf -inf -inf -inf -inf -inf -inf]\n",
      "  [  0. -inf -inf -inf -inf -inf -inf -inf -inf]\n",
      "  [  0.   0.   0.   0.   0. -inf -inf -inf -inf]\n",
      "  [  0.   0.   0.   0.   0.   0.   0.   0.   0.]\n",
      "  [  0.   0.   0.   0.   0.   0.   0.   0.   0.]\n",
      "  [  0.   0.   0.   0.   0.   0.   0.   0.   0.]\n",
      "  [  0.   0.   0.   0.   0.   0.   0.   0.   0.]\n",
      "  [  0.   0.   0.   0.   0.   0.   0.   0.   0.]]\n",
      "\n",
      " [[-inf -inf -inf -inf -inf -inf -inf -inf -inf]\n",
      "  [  0. -inf -inf -inf -inf -inf -inf -inf -inf]\n",
      "  [  0.   0.   0.   0.   0. -inf -inf -inf -inf]\n",
      "  [  0.   0.   0.   0.   0.   0.   0.   0.   0.]\n",
      "  [  0.   0.   0.   0.   0.   0.   0.   0.   0.]\n",
      "  [  0.   0.   0.   0.   0.   0.   0.   0.   0.]\n",
      "  [  0.   0.   0.   0.   0.   0.   0.   0.   0.]\n",
      "  [  0.   0.   0.   0.   0.   0.   0.   0.   0.]]\n",
      "\n",
      " [[-inf -inf -inf -inf -inf -inf -inf -inf -inf]\n",
      "  [  0. -inf -inf -inf -inf -inf -inf -inf -inf]\n",
      "  [  0.   0.   0.   0.   0. -inf -inf -inf -inf]\n",
      "  [  0.   0.   0.   0.   0.   0.   0.   0.   0.]\n",
      "  [  0.   0.   0.   0.   0.   0.   0.   0.   0.]\n",
      "  [  0.   0.   0.   0.   0.   0.   0.   0.   0.]\n",
      "  [  0.   0.   0.   0.   0.   0.   0.   0.   0.]\n",
      "  [  0.   0.   0.   0.   0.   0.   0.   0.   0.]]\n",
      "\n",
      " [[-inf -inf -inf -inf -inf -inf -inf -inf -inf]\n",
      "  [  0. -inf -inf -inf -inf -inf -inf -inf -inf]\n",
      "  [  0.   0.   0.   0.   0. -inf -inf -inf -inf]\n",
      "  [  0.   0.   0.   0.   0.   0.   0.   0.   0.]\n",
      "  [  0.   0.   0.   0.   0.   0.   0.   0.   0.]\n",
      "  [  0.   0.   0.   0.   0.   0.   0.   0.   0.]\n",
      "  [  0.   0.   0.   0.   0.   0.   0.   0.   0.]\n",
      "  [  0.   0.   0.   0.   0.   0.   0.   0.   0.]]\n",
      "\n",
      " [[-inf -inf -inf -inf -inf -inf -inf -inf -inf]\n",
      "  [  0. -inf -inf -inf -inf -inf -inf -inf -inf]\n",
      "  [  0.   0.   0.   0.   0. -inf -inf -inf -inf]\n",
      "  [  0.   0.   0.   0.   0.   0.   0.   0.   0.]\n",
      "  [  0.   0.   0.   0.   0.   0.   0.   0.   0.]\n",
      "  [  0.   0.   0.   0.   0.   0.   0.   0.   0.]\n",
      "  [  0.   0.   0.   0.   0.   0.   0.   0.   0.]\n",
      "  [  0.   0.   0.   0.   0.   0.   0.   0.   0.]]\n",
      "\n",
      " [[-inf -inf -inf -inf -inf -inf -inf -inf -inf]\n",
      "  [  0. -inf -inf -inf -inf -inf -inf -inf -inf]\n",
      "  [  0.   0.   0.   0.   0. -inf -inf -inf -inf]\n",
      "  [  0.   0.   0.   0.   0.   0.   0.   0.   0.]\n",
      "  [  0.   0.   0.   0.   0.   0.   0.   0.   0.]\n",
      "  [  0.   0.   0.   0.   0.   0.   0.   0.   0.]\n",
      "  [  0.   0.   0.   0.   0.   0.   0.   0.   0.]\n",
      "  [  0.   0.   0.   0.   0.   0.   0.   0.   0.]]\n",
      "\n",
      " [[-inf -inf -inf -inf -inf -inf -inf -inf -inf]\n",
      "  [  0. -inf -inf -inf -inf -inf -inf -inf -inf]\n",
      "  [  0.   0.   0.   0.   0. -inf -inf -inf -inf]\n",
      "  [  0.   0.   0.   0.   0.   0.   0.   0.   0.]\n",
      "  [  0.   0.   0.   0.   0.   0.   0.   0.   0.]\n",
      "  [  0.   0.   0.   0.   0.   0.   0.   0.   0.]\n",
      "  [  0.   0.   0.   0.   0.   0.   0.   0.   0.]\n",
      "  [  0.   0.   0.   0.   0.   0.   0.   0.   0.]]\n",
      "\n",
      " [[-inf -inf -inf -inf -inf -inf -inf -inf -inf]\n",
      "  [  0. -inf -inf -inf -inf -inf -inf -inf -inf]\n",
      "  [  0.   0.   0.   0.   0. -inf -inf -inf -inf]\n",
      "  [  0.   0.   0.   0.   0.   0.   0.   0.   0.]\n",
      "  [  0.   0.   0.   0.   0.   0.   0.   0.   0.]\n",
      "  [  0.   0.   0.   0.   0.   0.   0.   0.   0.]\n",
      "  [  0.   0.   0.   0.   0.   0.   0.   0.   0.]\n",
      "  [  0.   0.   0.   0.   0.   0.   0.   0.   0.]]]\n"
     ]
    }
   ],
   "source": [
    "print(numpy.array(get_memory_mask(anchor_near_double[0], anchor_near_double[1], 8,9)))"
   ]
  },
  {
   "cell_type": "code",
   "execution_count": null,
   "metadata": {},
   "outputs": [],
   "source": []
  }
 ],
 "metadata": {
  "kernelspec": {
   "display_name": "Python 3",
   "language": "python",
   "name": "python3"
  },
  "language_info": {
   "codemirror_mode": {
    "name": "ipython",
    "version": 3
   },
   "file_extension": ".py",
   "mimetype": "text/x-python",
   "name": "python",
   "nbconvert_exporter": "python",
   "pygments_lexer": "ipython3",
   "version": "3.7.4"
  }
 },
 "nbformat": 4,
 "nbformat_minor": 4
}
